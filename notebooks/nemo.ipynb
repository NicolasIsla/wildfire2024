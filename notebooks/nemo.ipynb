{
 "cells": [
  {
   "cell_type": "code",
   "execution_count": 23,
   "metadata": {},
   "outputs": [],
   "source": [
    "path_images_train = r\"C:\\Users\\corpa\\Downloads\\DS_08_V2\\DS\\images\\train\"\n",
    "path_images_val = r\"C:\\Users\\corpa\\Downloads\\DS_08_V2\\DS\\images\\val\"\n",
    "path_images_test = r\"C:\\Users\\corpa\\Downloads\\DS_08_V1\\DS\\images\\test\"\n",
    "\n",
    "path_labels_train = r\"C:\\Users\\corpa\\Downloads\\DS_08_V2\\DS\\labels\\train\"\n",
    "path_labels_val = r\"C:\\Users\\corpa\\Downloads\\DS_08_V2\\DS\\labels\\val\"\n",
    "path_labels_test = r\"C:\\Users\\corpa\\Downloads\\DS_08_V1\\DS\\labels\\test\"\n"
   ]
  },
  {
   "cell_type": "code",
   "execution_count": 3,
   "metadata": {},
   "outputs": [],
   "source": [
    "import os"
   ]
  },
  {
   "cell_type": "code",
   "execution_count": 17,
   "metadata": {},
   "outputs": [],
   "source": [
    "def check_labels(image_path, label_path):\n",
    "    images = os.listdir(image_path)\n",
    "    total_images = len(images)\n",
    "    empty_labels = 0\n",
    "    non_empty_labels = 0\n",
    "\n",
    "    for image in images:\n",
    "        # Derive the corresponding label file name\n",
    "        label_file = os.path.splitext(image)[0] + \".txt\"\n",
    "        label_file_path = os.path.join(label_path, label_file)\n",
    "\n",
    "        if os.path.exists(label_file_path):\n",
    "            with open(label_file_path, 'r') as file:\n",
    "                content = file.read().strip()\n",
    "                if content:\n",
    "                    non_empty_labels += 1\n",
    "                else:\n",
    "                    empty_labels += 1\n",
    "\n",
    "    return total_images, empty_labels, non_empty_labels"
   ]
  },
  {
   "cell_type": "code",
   "execution_count": 24,
   "metadata": {},
   "outputs": [
    {
     "name": "stdout",
     "output_type": "stream",
     "text": [
      "Train: Total Images: 2651, Empty Labels: 281, Non-Empty Labels: 2370\n",
      "Validation: Total Images: 333, Empty Labels: 39, Non-Empty Labels: 294\n",
      "Test: Total Images: 308, Empty Labels: 38, Non-Empty Labels: 270\n"
     ]
    }
   ],
   "source": [
    "# Check train data\n",
    "train_total, train_empty, train_non_empty = check_labels(path_images_train, path_labels_train)\n",
    "print(f\"Train: Total Images: {train_total}, Empty Labels: {train_empty}, Non-Empty Labels: {train_non_empty}\")\n",
    "\n",
    "# Check validation data\n",
    "val_total, val_empty, val_non_empty = check_labels(path_images_val, path_labels_val)\n",
    "print(f\"Validation: Total Images: {val_total}, Empty Labels: {val_empty}, Non-Empty Labels: {val_non_empty}\")\n",
    "\n",
    "# Check test data\n",
    "test_total, test_empty, test_non_empty = check_labels(path_images_test, path_labels_test)\n",
    "print(f\"Test: Total Images: {test_total}, Empty Labels: {test_empty}, Non-Empty Labels: {test_non_empty}\")\n"
   ]
  },
  {
   "cell_type": "code",
   "execution_count": 20,
   "metadata": {},
   "outputs": [
    {
     "data": {
      "text/plain": [
       "3292"
      ]
     },
     "execution_count": 20,
     "metadata": {},
     "output_type": "execute_result"
    }
   ],
   "source": [
    "2651+333+308"
   ]
  },
  {
   "cell_type": "code",
   "execution_count": 25,
   "metadata": {},
   "outputs": [
    {
     "data": {
      "text/plain": [
       "2934"
      ]
     },
     "execution_count": 25,
     "metadata": {},
     "output_type": "execute_result"
    }
   ],
   "source": [
    "2370+294+270"
   ]
  },
  {
   "cell_type": "code",
   "execution_count": 14,
   "metadata": {},
   "outputs": [
    {
     "data": {
      "text/plain": [
       "2570"
      ]
     },
     "execution_count": 14,
     "metadata": {},
     "output_type": "execute_result"
    }
   ],
   "source": [
    "2158+237+175"
   ]
  },
  {
   "cell_type": "code",
   "execution_count": 15,
   "metadata": {},
   "outputs": [
    {
     "data": {
      "text/plain": [
       "2859"
      ]
     },
     "execution_count": 15,
     "metadata": {},
     "output_type": "execute_result"
    }
   ],
   "source": [
    "2408+251+200"
   ]
  }
 ],
 "metadata": {
  "kernelspec": {
   "display_name": ".venv",
   "language": "python",
   "name": "python3"
  },
  "language_info": {
   "codemirror_mode": {
    "name": "ipython",
    "version": 3
   },
   "file_extension": ".py",
   "mimetype": "text/x-python",
   "name": "python",
   "nbconvert_exporter": "python",
   "pygments_lexer": "ipython3",
   "version": "3.11.9"
  }
 },
 "nbformat": 4,
 "nbformat_minor": 2
}
