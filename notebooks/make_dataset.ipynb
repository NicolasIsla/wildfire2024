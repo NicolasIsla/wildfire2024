{
 "cells": [
  {
   "cell_type": "code",
   "execution_count": 236,
   "metadata": {},
   "outputs": [],
   "source": [
    "import os\n",
    "import glob\n",
    "from datetime import datetime\n",
    "import re\n",
    "import shutil\n",
    "import random\n",
    "import matplotlib.pyplot as plt\n",
    "import numpy as np"
   ]
  },
  {
   "cell_type": "code",
   "execution_count": 237,
   "metadata": {},
   "outputs": [
    {
     "name": "stdout",
     "output_type": "stream",
     "text": [
      "15998\n",
      "10145\n"
     ]
    }
   ],
   "source": [
    "imgs = glob.glob(r\"C:\\Users\\corpa\\Downloads\\pyronear_ds_03_2024\\pyronear_ds_03_2024\\labels/**/*.txt\")\n",
    "imgs.sort()\n",
    "print(len(imgs))\n",
    "# quitar los que contengan hpwren\n",
    "imgs = [img for img in imgs if \"hpwren\" not in img]\n",
    "print(len(imgs))"
   ]
  },
  {
   "cell_type": "code",
   "execution_count": 238,
   "metadata": {},
   "outputs": [
    {
     "name": "stdout",
     "output_type": "stream",
     "text": [
      "10145\n"
     ]
    },
    {
     "data": {
      "text/plain": [
       "366"
      ]
     },
     "execution_count": 238,
     "metadata": {},
     "output_type": "execute_result"
    }
   ],
   "source": [
    "imgs = glob.glob(r\"C:\\Users\\corpa\\Downloads\\pyronear_ds_03_2024\\pyronear_ds_03_2024\\labels/**/*.txt\")\n",
    "imgs = [img for img in imgs if \"hpwren\" not in img]\n",
    "imgs.sort()\n",
    "print(len(imgs))\n",
    "\n",
    "fires = {}\n",
    "fire_idx = -1\n",
    "t0 = datetime.now()\n",
    "for file in imgs:\n",
    "    match = re.search(r\"(\\d{4}_\\d{2}_\\d{2}T\\d{2}_\\d{2}_\\d{2})\", file)\n",
    "    if match is not None:\n",
    "        t = datetime.strptime(match.group(), \"%Y_%m_%dT%H_%M_%S\")\n",
    "\n",
    "        if abs((t-t0).total_seconds()) > 10*59:\n",
    "            fire_idx += 1\n",
    "\n",
    "        t0 = t\n",
    "\n",
    "        if fire_idx in fires.keys():\n",
    "            fires[fire_idx].append(file)\n",
    "        else:\n",
    "            fires[fire_idx] = [file]\n",
    "\n",
    "len(fires)  "
   ]
  },
  {
   "cell_type": "code",
   "execution_count": 239,
   "metadata": {},
   "outputs": [],
   "source": [
    "to_del = []\n",
    "for k, v in fires.items():\n",
    "    if len(v) <10:\n",
    "        to_del.append(k)\n",
    "    else:\n",
    "        keep = []\n",
    "        for file in v:\n",
    "            with open(file, 'r') as f:\n",
    "                lines = f.readlines()\n",
    "\n",
    "            if len(lines):\n",
    "                keep.append(file)\n",
    "\n",
    "        if len(keep) <10:\n",
    "            to_del.append(k)"
   ]
  },
  {
   "cell_type": "code",
   "execution_count": 240,
   "metadata": {},
   "outputs": [],
   "source": [
    "for k in to_del:\n",
    "    del fires[k]"
   ]
  },
  {
   "cell_type": "code",
   "execution_count": 243,
   "metadata": {},
   "outputs": [
    {
     "name": "stdout",
     "output_type": "stream",
     "text": [
      "8359\n"
     ]
    },
    {
     "data": {
      "text/plain": [
       "189"
      ]
     },
     "execution_count": 243,
     "metadata": {},
     "output_type": "execute_result"
    }
   ],
   "source": [
    "imagenes =  0\n",
    "for k, v in fires.items():\n",
    "    imagenes += len(v)\n",
    "print(imagenes)\n",
    "len(fires)"
   ]
  },
  {
   "cell_type": "code",
   "execution_count": 244,
   "metadata": {},
   "outputs": [
    {
     "name": "stdout",
     "output_type": "stream",
     "text": [
      "Train set size: 151\n",
      "Validation set size: 18\n",
      "Test set size: 20\n"
     ]
    }
   ],
   "source": [
    "import random\n",
    "\n",
    "# Definir proporciones\n",
    "train_split = 0.8\n",
    "val_split = 0.1\n",
    "test_split = 0.1\n",
    "\n",
    "# Inicializar diccionarios para cada conjunto\n",
    "train = {}\n",
    "val = {}\n",
    "test = {}\n",
    "\n",
    "# Número total de incendios\n",
    "n_fires = len(fires)\n",
    "\n",
    "# Crear una lista de claves de 'fires' y barajarla\n",
    "shuffled_keys = list(fires.keys())\n",
    "random.shuffle(shuffled_keys)\n",
    "\n",
    "# Calcular los índices de corte para cada conjunto\n",
    "train_limit = int(n_fires * train_split)\n",
    "val_limit = train_limit + int(n_fires * val_split)\n",
    "\n",
    "# Repartir los incendios en los conjuntos\n",
    "for i, k in enumerate(shuffled_keys):\n",
    "    if i < train_limit:\n",
    "        train[k] = fires[k]  # Asignar al conjunto de entrenamiento\n",
    "    elif i < val_limit:\n",
    "        val[k] = fires[k]  # Asignar al conjunto de validación\n",
    "    else:\n",
    "        test[k] = fires[k]  # Asignar al conjunto de prueba\n",
    "\n",
    "# Verificar el tamaño de cada conjunto\n",
    "print(f\"Train set size: {len(train)}\")\n",
    "print(f\"Validation set size: {len(val)}\")\n",
    "print(f\"Test set size: {len(test)}\")\n",
    "\n"
   ]
  },
  {
   "cell_type": "code",
   "execution_count": 245,
   "metadata": {},
   "outputs": [
    {
     "name": "stdout",
     "output_type": "stream",
     "text": [
      "Train subsets: 453\n",
      "Validation subsets: 54\n",
      "Test subsets: 60\n"
     ]
    }
   ],
   "source": [
    "# Inicializar diccionarios para almacenar los subconjuntos de cada partición\n",
    "train_sets = {}\n",
    "val_sets = {}\n",
    "test_sets = {}\n",
    "\n",
    "random.seed(33)\n",
    "\n",
    "# Función para crear subconjuntos\n",
    "def create_subsets(fires_dict, sets, start_idx=0):\n",
    "    for k, v in fires_dict.items():\n",
    "        n = len(v)\n",
    "\n",
    "        if n >= 10:\n",
    "            # 1. Tomar la primera secuencia de 4 archivos\n",
    "            sets[start_idx] = v[0:10]\n",
    "            start_idx += 1\n",
    "\n",
    "            # 2. Tomar una secuencia de 4 archivos a la mitad de la lista\n",
    "            mid_idx = (n // 2) - 2  # Calcula el índice de la mitad ajustado para una ventana de 4 archivos\n",
    "            mid_idx = max(0, min(mid_idx, n - 10))  # Asegúrate de que el índice esté dentro de los límites\n",
    "            sets[start_idx] = v[mid_idx:mid_idx+10]\n",
    "            start_idx += 1\n",
    "\n",
    "            # 3. Tomar una secuencia de 4 archivos al final\n",
    "            sets[start_idx] = v[-10:]\n",
    "            start_idx += 1\n",
    "\n",
    "\n",
    "    return sets, start_idx\n",
    "\n",
    "# Crear subconjuntos para train, val, y test\n",
    "train_sets, _ = create_subsets(train, train_sets)\n",
    "val_sets, _ = create_subsets(val, val_sets)\n",
    "test_sets, _ = create_subsets(test, test_sets)\n",
    "\n",
    "# Verificar el tamaño total de los subconjuntos creados\n",
    "print(f\"Train subsets: {len(train_sets)}\")\n",
    "print(f\"Validation subsets: {len(val_sets)}\")\n",
    "print(f\"Test subsets: {len(test_sets)}\")"
   ]
  },
  {
   "cell_type": "code",
   "execution_count": 248,
   "metadata": {},
   "outputs": [
    {
     "name": "stdout",
     "output_type": "stream",
     "text": [
      "Archivos copiados correctamente.\n"
     ]
    }
   ],
   "source": [
    "import os\n",
    "import shutil\n",
    "\n",
    "# Función para copiar archivos de etiquetas e imágenes\n",
    "def copy_files(sets, set_name):\n",
    "    for k, v in sets.items():\n",
    "        for label_file in v:\n",
    "            # Crear nueva ruta para el archivo de etiqueta en la carpeta temporal\n",
    "            new_label_file = f\"C:/nico/wildfire2024/data/temporal_ds/labels/{set_name}/{1}/{k}/{os.path.basename(label_file)}\"\n",
    "            os.makedirs(os.path.dirname(new_label_file), exist_ok=True)\n",
    "            shutil.copy(label_file, new_label_file)\n",
    "\n",
    "            # Generar la ruta para el archivo de imagen correspondiente\n",
    "            img_file = label_file.replace(\"labels\", \"images\").replace(\".txt\", \".jpg\")\n",
    "            new_img_file = f\"C:/nico/wildfire2024/data/temporal_ds/images/{set_name}/{1}/{k}/{os.path.basename(img_file)}\"\n",
    "            os.makedirs(os.path.dirname(new_img_file), exist_ok=True)\n",
    "            shutil.copy(img_file, new_img_file)\n",
    "\n",
    "# Copiar archivos para train, val y test\n",
    "copy_files(train_sets, \"train\")\n",
    "copy_files(val_sets, \"val\")\n",
    "copy_files(test_sets, \"test\")\n",
    "\n",
    "print(\"Archivos copiados correctamente.\")"
   ]
  },
  {
   "cell_type": "code",
   "execution_count": 250,
   "metadata": {},
   "outputs": [
    {
     "name": "stdout",
     "output_type": "stream",
     "text": [
      "50795\n"
     ]
    },
    {
     "data": {
      "text/plain": [
       "4497"
      ]
     },
     "execution_count": 250,
     "metadata": {},
     "output_type": "execute_result"
    }
   ],
   "source": [
    "imgs = glob.glob(r\"C:\\Users\\corpa\\Downloads\\DS_fp\\DS_fp/labels/*.txt\")\n",
    "imgs.sort()\n",
    "print(len(imgs))\n",
    "\n",
    "fires = {}\n",
    "fire_idx = -1\n",
    "t0 = datetime.now()\n",
    "for file in imgs:\n",
    "    match = re.search(r\"(\\d{4}_\\d{2}_\\d{2}T\\d{2}_\\d{2}_\\d{2})\", file)\n",
    "    if match is not None:\n",
    "        t = datetime.strptime(match.group(), \"%Y_%m_%dT%H_%M_%S\")\n",
    "\n",
    "        if abs((t-t0).total_seconds()) > 2*59:\n",
    "            fire_idx += 1\n",
    "\n",
    "        t0 = t\n",
    "\n",
    "        if fire_idx in fires.keys():\n",
    "            fires[fire_idx].append(file)\n",
    "        else:\n",
    "            fires[fire_idx] = [file]\n",
    "\n",
    "len(fires)"
   ]
  },
  {
   "cell_type": "code",
   "execution_count": 251,
   "metadata": {},
   "outputs": [],
   "source": [
    "to_del = []\n",
    "for k, v in fires.items():\n",
    "    if len(v) <10:\n",
    "        to_del.append(k)\n",
    "    else:\n",
    "        keep = []\n",
    "        for file in v:\n",
    "            with open(file, 'r') as f:\n",
    "                lines = f.readlines()\n",
    "\n",
    "            if len(lines):\n",
    "                keep.append(file)\n",
    "\n",
    "        if len(keep) <10:\n",
    "            to_del.append(k)"
   ]
  },
  {
   "cell_type": "code",
   "execution_count": 252,
   "metadata": {},
   "outputs": [
    {
     "data": {
      "text/plain": [
       "1376"
      ]
     },
     "execution_count": 252,
     "metadata": {},
     "output_type": "execute_result"
    }
   ],
   "source": [
    "for k in to_del:\n",
    "    del fires[k]\n",
    "\n",
    "len(fires)"
   ]
  },
  {
   "cell_type": "code",
   "execution_count": 253,
   "metadata": {},
   "outputs": [
    {
     "data": {
      "text/plain": [
       "(453, 54, 60)"
      ]
     },
     "execution_count": 253,
     "metadata": {},
     "output_type": "execute_result"
    }
   ],
   "source": [
    "fire_train_size = len(glob.glob(r\"C:\\nico\\wildfire2024\\data\\temporal_ds/labels/train/1/*\"))\n",
    "fire_val_size = len(glob.glob(r\"C:\\nico\\wildfire2024\\data\\temporal_ds/labels/val/1/*\"))\n",
    "fire_test_size = len(glob.glob(r\"C:\\nico\\wildfire2024\\data\\temporal_ds/labels/test/1/*\"))\n",
    "fire_train_size, fire_val_size, fire_test_size"
   ]
  },
  {
   "cell_type": "code",
   "execution_count": 255,
   "metadata": {},
   "outputs": [
    {
     "data": {
      "text/plain": [
       "(453, 54, 60)"
      ]
     },
     "execution_count": 255,
     "metadata": {},
     "output_type": "execute_result"
    }
   ],
   "source": [
    "random.seed(33)\n",
    "indexes = list(fires.keys())\n",
    "random.shuffle(indexes)\n",
    "sets_tain = indexes[:fire_train_size]\n",
    "sets_val = indexes[fire_train_size:fire_train_size+fire_val_size]\n",
    "sets_test = indexes[-fire_test_size:]\n",
    "len(sets_tain), len(sets_val), len(sets_test)"
   ]
  },
  {
   "cell_type": "code",
   "execution_count": 258,
   "metadata": {},
   "outputs": [],
   "source": [
    "for k in sets_tain:\n",
    "    v = fires[k]\n",
    "    idx = random.randint(0,len(v)-10)\n",
    "    v = v[idx:idx+10]\n",
    "    for label_file in v:\n",
    "   \n",
    "        new_label_file = f\"C:/nico/wildfire2024/data/temporal_ds/labels/train/0/{k}/{os.path.basename(label_file)}\"\n",
    "        os.makedirs(os.path.dirname(new_label_file), exist_ok=True)\n",
    "        shutil.copy(label_file, new_label_file)\n",
    "\n",
    "        img_file = label_file.replace(\"labels\",\"images\").replace(\".txt\",\".jpg\")\n",
    "        \n",
    "        new_img_file = f\"C:/nico/wildfire2024/data/temporal_ds/images/train/0/{k}/{os.path.basename(img_file)}\"\n",
    "        os.makedirs(os.path.dirname(new_img_file), exist_ok=True)\n",
    "        shutil.copy(img_file, new_img_file)\n",
    "\n",
    "\n",
    "for k in sets_val:\n",
    "    v = fires[k]\n",
    "    idx = random.randint(0,len(v)-10)\n",
    "    v = v[idx:idx+10]\n",
    "    for label_file in v:\n",
    "   \n",
    "        new_label_file = f\"C:/nico/wildfire2024/data/temporal_ds/labels/val/0/{k}/{os.path.basename(label_file)}\"\n",
    "        os.makedirs(os.path.dirname(new_label_file), exist_ok=True)\n",
    "        shutil.copy(label_file, new_label_file)\n",
    "\n",
    "        img_file = label_file.replace(\"labels\",\"images\").replace(\".txt\",\".jpg\")\n",
    "        \n",
    "        new_img_file = f\"C:/nico/wildfire2024/data/temporal_ds/images/val/0/{k}/{os.path.basename(img_file)}\"\n",
    "        os.makedirs(os.path.dirname(new_img_file), exist_ok=True)\n",
    "        shutil.copy(img_file, new_img_file)\n",
    "\n",
    "for k in sets_test:\n",
    "    v = fires[k]\n",
    "    idx = random.randint(0,len(v)-10)\n",
    "    v = v[idx:idx+10]\n",
    "    for label_file in v:\n",
    "   \n",
    "        new_label_file = f\"C:/nico/wildfire2024/data/temporal_ds/labels/test/0/{k}/{os.path.basename(label_file)}\"\n",
    "        os.makedirs(os.path.dirname(new_label_file), exist_ok=True)\n",
    "        shutil.copy(label_file, new_label_file)\n",
    "\n",
    "        img_file = label_file.replace(\"labels\",\"images\").replace(\".txt\",\".jpg\")\n",
    "        \n",
    "        new_img_file = f\"C:/nico/wildfire2024/data/temporal_ds/images/test/0/{k}/{os.path.basename(img_file)}\"\n",
    "        os.makedirs(os.path.dirname(new_img_file), exist_ok=True)\n",
    "        shutil.copy(img_file, new_img_file)"
   ]
  }
 ],
 "metadata": {
  "kernelspec": {
   "display_name": ".venv",
   "language": "python",
   "name": "python3"
  },
  "language_info": {
   "codemirror_mode": {
    "name": "ipython",
    "version": 3
   },
   "file_extension": ".py",
   "mimetype": "text/x-python",
   "name": "python",
   "nbconvert_exporter": "python",
   "pygments_lexer": "ipython3",
   "version": "3.11.9"
  }
 },
 "nbformat": 4,
 "nbformat_minor": 2
}
