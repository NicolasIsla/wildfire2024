{
 "cells": [
  {
   "cell_type": "code",
   "execution_count": 1,
   "metadata": {},
   "outputs": [],
   "source": [
    "import os\n",
    "import glob\n",
    "from datetime import datetime\n",
    "import re\n",
    "import shutil\n",
    "import random\n",
    "import matplotlib.pyplot as plt\n",
    "import numpy as np"
   ]
  },
  {
   "cell_type": "code",
   "execution_count": 3,
   "metadata": {},
   "outputs": [
    {
     "name": "stdout",
     "output_type": "stream",
     "text": [
      "15998\n"
     ]
    },
    {
     "data": {
      "text/plain": [
       "928"
      ]
     },
     "execution_count": 3,
     "metadata": {},
     "output_type": "execute_result"
    }
   ],
   "source": [
    "imgs = glob.glob(r\"C:/Users\\corpa\\Downloads\\pyronear_ds_03_2024\\pyronear_ds_03_2024\\labels/**/*.txt\")\n",
    "imgs.sort()\n",
    "print(len(imgs))\n",
    "\n",
    "fires = {}\n",
    "fire_idx = -1\n",
    "t0 = datetime.now()\n",
    "for file in imgs:\n",
    "    match = re.search(r\"(\\d{4}_\\d{2}_\\d{2}T\\d{2}_\\d{2}_\\d{2})\", file)\n",
    "    if match is not None:\n",
    "        t = datetime.strptime(match.group(), \"%Y_%m_%dT%H_%M_%S\")\n",
    "\n",
    "        if abs((t-t0).total_seconds()) > 2*59:\n",
    "            fire_idx += 1\n",
    "\n",
    "        t0 = t\n",
    "\n",
    "        if fire_idx in fires.keys():\n",
    "            fires[fire_idx].append(file)\n",
    "        else:\n",
    "            fires[fire_idx] = [file]\n",
    "\n",
    "len(fires)"
   ]
  },
  {
   "cell_type": "code",
   "execution_count": 4,
   "metadata": {},
   "outputs": [],
   "source": [
    "to_del = []\n",
    "for k, v in fires.items():\n",
    "    if len(v) <4:\n",
    "        to_del.append(k)\n",
    "    else:\n",
    "        keep = []\n",
    "        for file in v:\n",
    "            with open(file, 'r') as f:\n",
    "                lines = f.readlines()\n",
    "\n",
    "            if len(lines):\n",
    "                keep.append(file)\n",
    "\n",
    "        if len(keep) <4:\n",
    "            to_del.append(k)"
   ]
  },
  {
   "cell_type": "code",
   "execution_count": 5,
   "metadata": {},
   "outputs": [],
   "source": [
    "for k in to_del:\n",
    "    del fires[k]"
   ]
  },
  {
   "cell_type": "code",
   "execution_count": 6,
   "metadata": {},
   "outputs": [
    {
     "data": {
      "text/plain": [
       "606"
      ]
     },
     "execution_count": 6,
     "metadata": {},
     "output_type": "execute_result"
    }
   ],
   "source": [
    "len(fires)"
   ]
  },
  {
   "cell_type": "code",
   "execution_count": 7,
   "metadata": {},
   "outputs": [
    {
     "data": {
      "text/plain": [
       "1818"
      ]
     },
     "execution_count": 7,
     "metadata": {},
     "output_type": "execute_result"
    }
   ],
   "source": [
    "sets = {}\n",
    "random.seed(33)\n",
    "for k, v in fires.items():\n",
    "    for i in range(3):\n",
    "        idx = random.randint(0,len(v)-4)\n",
    "        sets[len(sets)] = v[idx:idx+4]\n",
    "\n",
    "len(sets)"
   ]
  },
  {
   "cell_type": "code",
   "execution_count": 9,
   "metadata": {},
   "outputs": [],
   "source": [
    "for k, v in sets.items():\n",
    "    for label_file in v:\n",
    "        set_name = \"train\" if \"train\" in label_file else \"val\"\n",
    "        new_label_file = f\"temporal_ds/labels/{set_name}/1/{k}/{os.path.basename(label_file)}\"\n",
    "        os.makedirs(os.path.dirname(new_label_file), exist_ok=True)\n",
    "        shutil.copy(label_file, new_label_file)\n",
    "\n",
    "        img_file = label_file.replace(\"labels\",\"images\").replace(\".txt\",\".jpg\")\n",
    "        \n",
    "        new_img_file = f\"temporal_ds/images/{set_name}/1/{k}/{os.path.basename(img_file)}\"\n",
    "        os.makedirs(os.path.dirname(new_img_file), exist_ok=True)\n",
    "        shutil.copy(img_file, new_img_file)"
   ]
  },
  {
   "cell_type": "code",
   "execution_count": 12,
   "metadata": {},
   "outputs": [
    {
     "data": {
      "text/plain": [
       "(1650, 168)"
      ]
     },
     "execution_count": 12,
     "metadata": {},
     "output_type": "execute_result"
    }
   ],
   "source": [
    "fire_train_size = len(glob.glob(\"temporal_ds/labels/train/1/*\"))\n",
    "fire_val_size = len(glob.glob(\"temporal_ds/labels/val/1/*\"))\n",
    "fire_train_size, fire_val_size"
   ]
  },
  {
   "cell_type": "code",
   "execution_count": 11,
   "metadata": {},
   "outputs": [
    {
     "data": {
      "text/plain": [
       "(606, 0)"
      ]
     },
     "execution_count": 11,
     "metadata": {},
     "output_type": "execute_result"
    }
   ],
   "source": [
    "random.seed(33)\n",
    "indexes = list(fires.keys())\n",
    "random.shuffle(indexes)\n",
    "sets_tain = indexes[:fire_train_size]\n",
    "sets_val = indexes[fire_train_size:fire_train_size+fire_val_size]\n",
    "len(sets_tain), len(sets_val)"
   ]
  },
  {
   "cell_type": "code",
   "execution_count": null,
   "metadata": {},
   "outputs": [],
   "source": [
    "for k in sets_tain:\n",
    "    v = fires[k]\n",
    "    idx = random.randint(0,len(v)-4)\n",
    "    v = v[idx:idx+4]\n",
    "    for label_file in v:\n",
    "   \n",
    "        new_label_file = f\"temporal_ds/labels/train/0/{k}/{os.path.basename(label_file)}\"\n",
    "        os.makedirs(os.path.dirname(new_label_file), exist_ok=True)\n",
    "        shutil.copy(label_file, new_label_file)\n",
    "\n",
    "        img_file = label_file.replace(\"labels/\",\"images/\").replace(\".txt\",\".jpg\")\n",
    "        \n",
    "        new_img_file = f\"temporal_ds/images/train/0/{k}/{os.path.basename(img_file)}\"\n",
    "        os.makedirs(os.path.dirname(new_img_file), exist_ok=True)\n",
    "        shutil.copy(img_file, new_img_file)\n",
    "\n",
    "\n",
    "for k in sets_val:\n",
    "    v = fires[k]\n",
    "    idx = random.randint(0,len(v)-4)\n",
    "    v = v[idx:idx+10]\n",
    "    for label_file in v:\n",
    "   \n",
    "        new_label_file = f\"temporal_ds/labels/val/0/{k}/{os.path.basename(label_file)}\"\n",
    "        os.makedirs(os.path.dirname(new_label_file), exist_ok=True)\n",
    "        shutil.copy(label_file, new_label_file)\n",
    "\n",
    "        img_file = label_file.replace(\"labels/\",\"images/\").replace(\".txt\",\".jpg\")\n",
    "        \n",
    "        new_img_file = f\"temporal_ds/images/val/0/{k}/{os.path.basename(img_file)}\"\n",
    "        os.makedirs(os.path.dirname(new_img_file), exist_ok=True)\n",
    "        shutil.copy(img_file, new_img_file)"
   ]
  }
 ],
 "metadata": {
  "kernelspec": {
   "display_name": ".venv",
   "language": "python",
   "name": "python3"
  },
  "language_info": {
   "codemirror_mode": {
    "name": "ipython",
    "version": 3
   },
   "file_extension": ".py",
   "mimetype": "text/x-python",
   "name": "python",
   "nbconvert_exporter": "python",
   "pygments_lexer": "ipython3",
   "version": "3.11.9"
  }
 },
 "nbformat": 4,
 "nbformat_minor": 2
}
