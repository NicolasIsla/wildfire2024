{
 "cells": [
  {
   "cell_type": "code",
   "execution_count": 20,
   "metadata": {},
   "outputs": [],
   "source": [
    "import numpy as np\n",
    "import os\n",
    "import cv2\n",
    "import re"
   ]
  },
  {
   "cell_type": "code",
   "execution_count": 25,
   "metadata": {},
   "outputs": [],
   "source": [
    "path = r\"C:\\nico\\wildfire2024\\data\\DS-71c1fd51-v2\"\n"
   ]
  },
  {
   "cell_type": "code",
   "execution_count": 26,
   "metadata": {},
   "outputs": [
    {
     "name": "stdout",
     "output_type": "stream",
     "text": [
      "Cantidad de archivos en el directorio labels val: 1529\n",
      "Cantidad de archivos en el directorio imagenes val: 1529\n",
      "Cantidad de archivos en el directorio imagenes train: 6703\n",
      "Cantidad de archivos en el directorio labels train: 6053\n"
     ]
    }
   ],
   "source": [
    "# Cuenta la cantidad de archivos en el directorio\n",
    "# unir directorio con la carpeta val\n",
    "directory = os.path.join(path, \"images/val\")\n",
    "file_count = len([f for f in os.listdir(directory) if os.path.isfile(os.path.join(directory, f))])\n",
    "# labels\n",
    "directory = os.path.join(path, \"labels/val\")\n",
    "file_count = len([f for f in os.listdir(directory) if os.path.isfile(os.path.join(directory, f))])\n",
    "print(f\"Cantidad de archivos en el directorio labels val: {file_count}\")\n",
    "\n",
    "print(f\"Cantidad de archivos en el directorio imagenes val: {file_count}\")\n",
    "# train\n",
    "directory = os.path.join(path, \"images/train\")\n",
    "file_count = len([f for f in os.listdir(directory) if os.path.isfile(os.path.join(directory, f))])\n",
    "\n",
    "print(f\"Cantidad de archivos en el directorio imagenes train: {file_count}\")\n",
    "# labels\n",
    "directory = os.path.join(path, \"labels/train\")\n",
    "file_count = len([f for f in os.listdir(directory) if os.path.isfile(os.path.join(directory, f))])\n",
    "print(f\"Cantidad de archivos en el directorio labels train: {file_count}\")"
   ]
  },
  {
   "cell_type": "code",
   "execution_count": 48,
   "metadata": {},
   "outputs": [],
   "source": [
    "import os\n",
    "import re\n",
    "\n",
    "def categorize_files_by_prefix(path):\n",
    "    categories = {}\n",
    "\n",
    "    for filename in os.listdir(path):\n",
    "        if os.path.isfile(os.path.join(path, filename)):\n",
    "            # Revisa si el nombre del archivo coincide con '123.jpg' o similar\n",
    "            if re.match(r'^\\d+\\.jpg$', filename):\n",
    "                category = 'numeric_label'\n",
    "            else:\n",
    "                parts = filename.split('_')\n",
    "                if parts:\n",
    "                    # Revisa si el primer componente es un número\n",
    "                    if re.match(r'^\\d+$', parts[0]):\n",
    "                        category = 'numeric_label'\n",
    "                    else:\n",
    "                        category = parts[0]\n",
    "\n",
    "            category = category.lower()\n",
    "\n",
    "            if category in categories:\n",
    "                categories[category].append(filename)\n",
    "            else:\n",
    "                categories[category] = [filename]\n",
    "\n",
    "    return categories\n"
   ]
  },
  {
   "cell_type": "code",
   "execution_count": 49,
   "metadata": {},
   "outputs": [],
   "source": [
    "path_images = os.path.join(path, \"images/train\")\n",
    "categories = categorize_files_by_prefix(path_images)"
   ]
  },
  {
   "cell_type": "code",
   "execution_count": 50,
   "metadata": {},
   "outputs": [
    {
     "name": "stdout",
     "output_type": "stream",
     "text": [
      "Categoría: numeric_label - Cantidad de elementos: 534\n",
      "Categoría: adf - Cantidad de elementos: 137\n",
      "Categoría: aiformankind - Cantidad de elementos: 2149\n",
      "Categoría: awf - Cantidad de elementos: 358\n",
      "Categoría: bcd0f7ee-25ca-4878-969b-8a374dc795e5.png - Cantidad de elementos: 1\n",
      "Categoría: fire - Cantidad de elementos: 2\n",
      "Categoría: fuego - Cantidad de elementos: 695\n",
      "Categoría: pyronear - Cantidad de elementos: 675\n",
      "Categoría: random - Cantidad de elementos: 248\n",
      "Categoría: synthetic - Cantidad de elementos: 781\n",
      "Categoría: vid - Cantidad de elementos: 1123\n",
      "Total de elementos: 6703\n"
     ]
    }
   ],
   "source": [
    "categories.keys()\n",
    "# mostrar la cantidad de elementos por etiqueta\n",
    "total = 0\n",
    "for category, files in categories.items():\n",
    "    print(f\"Categoría: {category} - Cantidad de elementos: {len(files)}\")\n",
    "    total += len(files)\n",
    "print(f\"Total de elementos: {total}\")"
   ]
  },
  {
   "cell_type": "code",
   "execution_count": 52,
   "metadata": {},
   "outputs": [
    {
     "name": "stdout",
     "output_type": "stream",
     "text": [
      "Categoría: numeric_label - Cantidad de elementos: 534\n",
      "Categoría: adf - Cantidad de elementos: 137\n",
      "Categoría: awf - Cantidad de elementos: 358\n",
      "Categoría: pyronear - Cantidad de elementos: 675\n",
      "Categoría: random - Cantidad de elementos: 248\n",
      "Categoría: synthetic - Cantidad de elementos: 781\n",
      "Categoría: vid - Cantidad de elementos: 1123\n",
      "Total de elementos: 3856\n"
     ]
    }
   ],
   "source": [
    "categories.keys()\n",
    "# mostrar la cantidad de elementos por etiqueta\n",
    "total = 0\n",
    "no_catergories = [\"aiformankind\", \"fuego\", \"fire\", \"bcd0f7ee-25ca-4878-969b-8a374dc795e5.png\"]\n",
    "for category, files in categories.items():\n",
    "    if category in no_catergories:\n",
    "        continue\n",
    "    print(f\"Categoría: {category} - Cantidad de elementos: {len(files)}\")\n",
    "    total += len(files)\n",
    "print(f\"Total de elementos: {total}\")"
   ]
  },
  {
   "cell_type": "code",
   "execution_count": 53,
   "metadata": {},
   "outputs": [],
   "source": [
    "path_images = os.path.join(path, \"images/val\")\n",
    "categories = categorize_files_by_prefix(path_images)"
   ]
  },
  {
   "cell_type": "code",
   "execution_count": 54,
   "metadata": {},
   "outputs": [
    {
     "name": "stdout",
     "output_type": "stream",
     "text": [
      "Categoría: adf - Cantidad de elementos: 34\n",
      "Categoría: aiformankind - Cantidad de elementos: 586\n",
      "Categoría: awf - Cantidad de elementos: 91\n",
      "Categoría: fuego - Cantidad de elementos: 172\n",
      "Categoría: pyronear - Cantidad de elementos: 304\n",
      "Categoría: random - Cantidad de elementos: 66\n",
      "Categoría: synthetic - Cantidad de elementos: 195\n",
      "Categoría: vid - Cantidad de elementos: 251\n",
      "Total de elementos: 1699\n"
     ]
    }
   ],
   "source": [
    "categories.keys()\n",
    "# mostrar la cantidad de elementos por etiqueta\n",
    "total = 0\n",
    "for category, files in categories.items():\n",
    "    print(f\"Categoría: {category} - Cantidad de elementos: {len(files)}\")\n",
    "    total += len(files)\n",
    "print(f\"Total de elementos: {total}\")"
   ]
  },
  {
   "cell_type": "code",
   "execution_count": 57,
   "metadata": {},
   "outputs": [
    {
     "name": "stdout",
     "output_type": "stream",
     "text": [
      "Categoría: adf - Cantidad de elementos: 34\n",
      "Categoría: awf - Cantidad de elementos: 91\n",
      "Categoría: pyronear - Cantidad de elementos: 304\n",
      "Categoría: random - Cantidad de elementos: 66\n",
      "Categoría: synthetic - Cantidad de elementos: 195\n",
      "Categoría: vid - Cantidad de elementos: 251\n",
      "Total de elementos: 941\n"
     ]
    }
   ],
   "source": [
    "categories.keys()\n",
    "# mostrar la cantidad de elementos por etiqueta\n",
    "total = 0\n",
    "no_catergories = [\"aiformankind\", \"fuego\", \"fire\", \"bcd0f7ee-25ca-4878-969b-8a374dc795e5.png\"]\n",
    "for category, files in categories.items():\n",
    "    if category in no_catergories:\n",
    "        continue\n",
    "    print(f\"Categoría: {category} - Cantidad de elementos: {len(files)}\")\n",
    "    total += len(files)\n",
    "print(f\"Total de elementos: {total}\")"
   ]
  },
  {
   "cell_type": "code",
   "execution_count": 56,
   "metadata": {},
   "outputs": [
    {
     "data": {
      "text/plain": [
       "4797"
      ]
     },
     "execution_count": 56,
     "metadata": {},
     "output_type": "execute_result"
    }
   ],
   "source": [
    "941+3856"
   ]
  }
 ],
 "metadata": {
  "kernelspec": {
   "display_name": ".venv",
   "language": "python",
   "name": "python3"
  },
  "language_info": {
   "codemirror_mode": {
    "name": "ipython",
    "version": 3
   },
   "file_extension": ".py",
   "mimetype": "text/x-python",
   "name": "python",
   "nbconvert_exporter": "python",
   "pygments_lexer": "ipython3",
   "version": "3.11.9"
  }
 },
 "nbformat": 4,
 "nbformat_minor": 2
}
